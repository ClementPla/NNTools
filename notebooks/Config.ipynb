{
 "cells": [
  {
   "cell_type": "code",
   "execution_count": 1,
   "id": "bd413926-0a71-4870-bd5e-9c42d9c43f4d",
   "metadata": {},
   "outputs": [],
   "source": [
    "from nntools.utils import Config"
   ]
  },
  {
   "cell_type": "raw",
   "id": "e445ad0e-a05f-4e36-a284-bc71c60e2837",
   "metadata": {},
   "source": [
    "# config_example.yaml\n",
    "\n",
    "experiment:\n",
    "  name: MyExperiment\n",
    "\n",
    "model:\n",
    "  name: MyCustomModel\n",
    "  architecture:\n",
    "    name: resnet18\n",
    "    layers:\n",
    "      n: 18\n",
    "      residual: True\n",
    "\n",
    "optimizer:\n",
    "  name: Adam\n",
    "  lr: 0.001\n",
    "  others_params*:\n",
    "    weight_decay: 0.0001\n",
    "    momentum: 0.9\n",
    "\n",
    "^train:\n",
    "  epochs: 10\n",
    "  batch_size: 32\n",
    "  shuffle: True\n",
    "  num_workers: 4"
   ]
  },
  {
   "cell_type": "code",
   "execution_count": 2,
   "id": "17f10a99-23c7-483e-bcdc-5b2dc5ee4237",
   "metadata": {},
   "outputs": [],
   "source": [
    "config = Config(\"config_example.yaml\")"
   ]
  },
  {
   "cell_type": "code",
   "execution_count": 3,
   "id": "ad5831fd-8b9d-4b71-aaf0-317f6308347f",
   "metadata": {},
   "outputs": [
    {
     "data": {
      "text/plain": [
       "'MyExperiment'"
      ]
     },
     "execution_count": 3,
     "metadata": {},
     "output_type": "execute_result"
    }
   ],
   "source": [
    "config[\"experiment\"][\"name\"]"
   ]
  },
  {
   "cell_type": "code",
   "execution_count": 4,
   "id": "5f751422-997e-4d67-9d47-ab67e3357cd2",
   "metadata": {},
   "outputs": [
    {
     "data": {
      "text/plain": [
       "OrderedDict([('experiment/name', 'MyExperiment'),\n",
       "             ('model/name', 'MyCustomModel'),\n",
       "             ('model/architecture/name', 'resnet18'),\n",
       "             ('model/architecture/layers/n', 18),\n",
       "             ('model/architecture/layers/residual', True),\n",
       "             ('optimizer/name', 'Adam'),\n",
       "             ('optimizer/lr', 0.001),\n",
       "             ('optimizer/others_params',\n",
       "              {'weight_decay': 0.0001, 'momentum': 0.9})])"
      ]
     },
     "execution_count": 4,
     "metadata": {},
     "output_type": "execute_result"
    }
   ],
   "source": [
    "\"\"\"\n",
    "mlflow.log_params(**config.tracked_params)\n",
    "wandb.init(..., config=config.tracked_params)\n",
    "...\n",
    "\"\"\"\n",
    "config.tracked_params"
   ]
  },
  {
   "cell_type": "markdown",
   "id": "622e2bb6-847e-4c16-9a5b-b565b2731740",
   "metadata": {},
   "source": [
    "1. Note that `train` parameters are excluded (because of the prefix `^`)\n",
    "2. dict in dict are merged into a single line per values, keys and child-keys being merged with `/` separator\n",
    "3. This behaviour can be avoided by postfixing the subdict key with a `*` (for example here with `optimizer/others_params`)\n",
    "4. `^` prefix and `*` postfix are only functional and are automically filtered from the `tracked_params` attribute. \n"
   ]
  },
  {
   "cell_type": "code",
   "execution_count": null,
   "id": "0cae958e-4fae-4c96-b0a0-83c8a0934a50",
   "metadata": {},
   "outputs": [],
   "source": []
  }
 ],
 "metadata": {
  "kernelspec": {
   "display_name": "Python 3 (ipykernel)",
   "language": "python",
   "name": "python3"
  },
  "language_info": {
   "codemirror_mode": {
    "name": "ipython",
    "version": 3
   },
   "file_extension": ".py",
   "mimetype": "text/x-python",
   "name": "python",
   "nbconvert_exporter": "python",
   "pygments_lexer": "ipython3",
   "version": "3.10.8"
  }
 },
 "nbformat": 4,
 "nbformat_minor": 5
}
